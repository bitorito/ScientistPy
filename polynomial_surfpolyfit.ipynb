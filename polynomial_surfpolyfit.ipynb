{
 "cells": [
  {
   "cell_type": "markdown",
   "metadata": {},
   "source": [
    "https://en.wikipedia.org/wiki/General_linear_model\n",
    "\n",
    "# Least Squares Method:\n",
    "## Surface Polynomial Regression\n",
    "Lets expand previous concepts, exapnding our previos function to multiple dimmensions: <br>\n",
    "${\\displaystyle f(x,{\\boldsymbol {\\beta }})=\\sum _{j=1}^{m}\\beta _{j}\\phi _{j}(x)} \\quad\\rightarrow\\quad \\mathbb{R}^{n}\\quad\\rightarrow\\quad\n",
    "y = {\\displaystyle f(\\vec{x},\\vec{{\\boldsymbol {\\beta }}})=\\sum _{j=1}^{m}\\vec {\\beta} _{j}\\phi _{j}(\\vec{x}),}$ <br><br>\n",
    "\n",
    "Note that function below is an scalar function with vectorial codomain: $\\quad y = f(\\vec{x},\\vec{{\\boldsymbol {\\beta }}}): \\quad \\mathbb{R}^{n} \\rightarrow \\mathbb{R} $\n",
    "\n",
    "$ {\\begin{bmatrix}\n",
    "  {y}_{1}\n",
    " \\cr {y}_{2}\n",
    " \\cr  {y}_{3}\n",
    " \\cr  ...\n",
    " \\cr  {y}_{n}\\end{bmatrix}}$\n",
    " $=$\n",
    "${\\begin{bmatrix}1&\\vec {x}_{1}&\\vec {x}_{1}^{2}&... &\\vec {x}_{1}^{r}\\cr1&\\vec {x}_{2}&\\vec {x}_{2}^{2}&... &\\vec {x}_{2}^{r}\\cr1&\\vec {x}_{3}&\\vec {x}_{3}^{2}&... &\\vec {x}_{3}^{r}\\cr...\\cr1&\\vec {x}_{n}&\\vec {x}_{n}^{2}&\\dots &\\vec {x}_{n}^{r}\\end{bmatrix}}$\n",
    "$+$\n",
    "${\\begin{bmatrix}\\vec {\\beta} _{0}\\\\\\vec {\\beta} _{1}\\\\\\vec {\\beta} _{2}\\\\\\vdots \\\\\\vec {\\beta} _{r}\\end{bmatrix}}$\n",
    "\n",
    "\n",
    "here we are trying to expand the Polynomial regression, but polynomial function has all combinations of independent coordinates.\n",
    "Calculating powers as scalar products we get something like:\n",
    "<br>x^2 = x^2 + 2xy + y^2\n",
    "<br>x^3 = x^3 + 3x^2y + 3xy^2 +y^3<br>\n",
    "This could causes some disturbance when we get beta coeff\n",
    "\n",
    "<br><br><br>\n",
    "WAHT IF WE DEFINE THE POWER AS A NEW DIMENSION?<br>\n",
    "-THER WE WOULD HAVE FORE EXAMPLE<br>\n",
    "Z = Z(X,Y,g) where g is the max_grade of the expoenet<br>\n",
    "\n",
    "$\\begin{bmatrix}z_{1}\\cr z_{2}\\cr z_{3}\\cr ...\\cr y_{n}\\end{bmatrix} \n",
    " = {\\begin{bmatrix}1&x_{1}&x_{1}^{2}&... &x_{1}^{r}\\cr1&x_{2}&x_{2}^{2}&... &x_{2}^{r}\\cr1&x_{3}&x_{3}^{2}&... &x_{3}^{r}\\cr...\\cr1&x_{n}&x_{n}^{2}&\\dots &x_{n}^{r}\n",
    "                  \\cr......................................&...............................&................................&.............\n",
    "                  \\cr 1 &y_{1}&y_{1}^{2}&... &y_{1}^{r}\\cr 1 &y_2 &y_{2}^{2}&... &y_{2}^{r}\\cr 1 &y_{3}&y_{3}^{2}&... &y_{3}^{r}\\cr...\\cr 1&y_{n}&y_{n}^{2}&\\dots &y_{n}^{r}\\end{bmatrix}}\n",
    " {\\begin{bmatrix}\\beta _{00}&\\beta _{01}&\\beta _{02}&\\vdots &\\beta _{0r}\n",
    "                  \\cr &&...& &\\beta_{1r}\n",
    "                  \\cr\\beta_{r0}&... &...& &\\beta_{rr}\\end{bmatrix}}$\n"
   ]
  },
  {
   "cell_type": "code",
   "execution_count": null,
   "metadata": {},
   "outputs": [],
   "source": []
  },
  {
   "cell_type": "code",
   "execution_count": null,
   "metadata": {},
   "outputs": [],
   "source": [
    "%matplotlib widget\n",
    "import matplotlib.pyplot as plt\n",
    "import numpy as np"
   ]
  },
  {
   "cell_type": "code",
   "execution_count": null,
   "metadata": {},
   "outputs": [],
   "source": [
    "#THIS FUNCTIONS GIVES AN ARRAY OF A COMPONENT, GIVING EACH DEGREE POWERED BY COLUMNS\n",
    "\n",
    "#variables definition\n",
    "def power_populate(init:float,end:float,N_samp:int, deg=int):\n",
    "    Vec = np.array(np.linspace(init,end,N_samp)).reshape(-1,1)\n",
    "    Vec_poly = np.hstack((np.ones(Vec.shape),Vec))  \n",
    "    # return Vec\n",
    "    for i in range(2,deg+1):\n",
    "        a = np.power(i, Vec)#.reshape(Vec.shape[0],1) #, Vec\n",
    "        Vec_poly = np.hstack((Vec_poly,a))\n",
    "    return Vec,Vec_poly\n",
    "\n",
    "X1,X1_poly = power_populate(-1,1,100, deg=2)\n",
    "X2,X2_poly = power_populate(-1,1,100, deg=2)\n",
    "\n",
    "\n",
    "#expanding to 3d array:\n",
    "#   1st  (hor):  degree of polynomial\n",
    "#   2nd  (ver):  number of measurement\n",
    "#   3th  (deepness): each independant variable\n",
    "X_3d = np.array([X1_poly,X2_poly])\n",
    "X1_2d,X2_2d = np.meshgrid(X1,X2)"
   ]
  },
  {
   "cell_type": "code",
   "execution_count": null,
   "metadata": {},
   "outputs": [],
   "source": [
    "### CHECKPOINT!!\n",
    "### CHECKPOINT!!\n",
    "### CHECKPOINT!!\n",
    "### CHECKPOINT!!\n",
    "### CHECKPOINT!!\n",
    "\n",
    "\n",
    "A = np.array([[0,1,-1],   #a00,...a0g\n",
    "              [0,-3,0],   \n",
    "              [-1,1,3]]) #ag0,...agg \n",
    "\n",
    "#matriz Y representa valores escalares no plano/¿ou hiperplano de N dim?\n",
    "def polyn_calcul(coeff_mat,x,y,):     #queremos calcular aqui \n",
    "    grade = coeff_mat.shape[0]\n",
    "    x_powers = [np.array(x**i) for i in range(grade)]# for var in (x,y)]\n",
    "    y_powers= np.array([y**i for i in range(grade)])# for var in (x,y)]\n",
    "    return x_powers,y_powers\n",
    "    return  x + x**2 - 3*x*y -y**2 + y**2*x +3*x**2*y**2\n",
    "\n",
    "x,y = polyn_calcul(A, X1_2d,X2_2d)\n",
    "# Y_2d = polyn_calcul(X1_2d,X2_2d)\n"
   ]
  },
  {
   "cell_type": "code",
   "execution_count": null,
   "metadata": {},
   "outputs": [],
   "source": [
    "#plotting cell\n",
    "__,ax = plt.subplots(subplot_kw={\"projection\": \"3d\"})\n",
    "surf = ax.plot_surface(X1_2d, X2_2d, Y_2d)"
   ]
  },
  {
   "cell_type": "markdown",
   "metadata": {},
   "source": [
    "<br><br> Putting the independent and dependent variables in matrices ${\\displaystyle X}$ and ${\\displaystyle Y}$, respectively, we can compute the least squares in the following way. Note that ${\\displaystyle D}$ is the set of all data.\n",
    "\n",
    "${\\displaystyle L(D,{\\boldsymbol {\\beta }})=\\left\\|Y-X{\\boldsymbol {\\beta }}\\right\\|^{2}=(Y-X{\\boldsymbol {\\beta }})^{\\mathsf {T}}(Y-X{\\boldsymbol {\\beta }})=Y^{\\mathsf {T}}Y-Y^{\\mathsf {T}}X{\\boldsymbol {\\beta }}-{\\boldsymbol {\\beta }}^{\\mathsf {T}}X^{\\mathsf {T}}Y+{\\boldsymbol {\\beta }}^{\\mathsf {T}}X^{\\mathsf {T}}X{\\boldsymbol {\\beta }}}$\n",
    "\n",
    "The gradient of the loss is:\n",
    "${\\displaystyle {\\frac {\\partial L(D,{\\boldsymbol {\\beta }})}{\\partial {\\boldsymbol {\\beta }}}}={\\frac {\\partial \\left(Y^{\\mathsf {T}}Y-Y^{\\mathsf {T}}X{\\boldsymbol {\\beta }}-{\\boldsymbol {\\beta }}^{\\mathsf {T}}X^{\\mathsf {T}}Y+{\\boldsymbol {\\beta }}^{\\mathsf {T}}X^{\\mathsf {T}}X{\\boldsymbol {\\beta }}\\right)}{\\partial {\\boldsymbol {\\beta }}}}=-2X^{\\mathsf {T}}Y+2X^{\\mathsf {T}}X{\\boldsymbol {\\beta }}}$\n",
    "\n",
    "Setting the gradient of the loss to zero and solving for β {\\displaystyle {\\boldsymbol {\\beta }}}, we get:<br>\n",
    "${\\displaystyle -2X^{\\mathsf {T}}Y+2X^{\\mathsf {T}}X{\\boldsymbol {\\beta }}=0\\Rightarrow X^{\\mathsf {T}}Y=X^{\\mathsf {T}}X{\\boldsymbol {\\beta }}}$<br><br>\n",
    "${\\displaystyle {\\boldsymbol {\\hat {\\beta }}}=\\left(X^{\\mathsf {T}}X\\right)^{-1}X^{\\mathsf {T}}Y}$"
   ]
  },
  {
   "cell_type": "code",
   "execution_count": null,
   "metadata": {},
   "outputs": [],
   "source": [
    "# Col1, Col2 = power_populate(-1,1,100, deg=2)\n",
    "\n",
    "\n",
    "betha = np.matmul(np.linalg.inv(np.matmul(X.transpose(), X)) * X.transpose() , Yre)\n",
    "\n"
   ]
  },
  {
   "cell_type": "markdown",
   "metadata": {},
   "source": [
    "END OF LATE VERSION\n"
   ]
  },
  {
   "cell_type": "code",
   "execution_count": null,
   "metadata": {},
   "outputs": [],
   "source": []
  },
  {
   "cell_type": "markdown",
   "metadata": {},
   "source": [
    "THERE IS A DIMENSIONAL GAP BETWEEN BOTH PARTS: <br><BR>\n",
    "UPSIDE WE DEFINED EACH SAMPLE AS A VECTOR, AND EXPAND THE EQUATIONS AS:  **THE POWER OF THE VECTOR TO THE EXPONENT OF EACH DEGREE**<BR>\n",
    "BELOW WE DEFINING EACH SAMPLE AS THE TUPLE OF VECTOR COMPONENTS, AND EXPAND THE EQUATIONS AS:  **THE POWER OF EACH COMPONENT OF THE VECTOR TO THE EXPONENT OF EACH DEGREE**\n",
    "\n",
    "### Polynomial Surface:\n",
    "Lets express the equation of a polynomial surfaces in 2 ways: as double summatory and in a matricial form. <br><br>\n",
    "$\\quad \\quad{\\displaystyle \\sum _j^g \\sum _i^g a_{ij} x^i y^j} \\quad = \\quad X*A*Y$ \n",
    "<br>\n",
    "${X = \\begin{bmatrix}x^0&...&x^i&...&x^g \\end{bmatrix}}$\n",
    "$\\quad$\n",
    "${A = \\begin{bmatrix}a_{00}&a_{01}&...&a_{0g}\\cr a_{10}&...&&a_{1g}  \\cr ...\\cr a_{g0}&...&&a_{gg} \\end{bmatrix}}$\n",
    "$\\quad$\n",
    "${Y = \\begin{bmatrix}y^0\\cr ...\\cr y^j\\cr ...\\cr y^g \\end{bmatrix}}$\n",
    "\n"
   ]
  },
  {
   "cell_type": "code",
   "execution_count": null,
   "metadata": {},
   "outputs": [],
   "source": [
    "#variables definition\n",
    "X = np.linspace(-1,1,1000); Y = np.linspace(-1,1,1000)  #vector of 100 samples of each independete variable\n",
    "\n",
    "A = np.array([[0,1,-1],   #a00,...a0g\n",
    "              [0,-3,0],   \n",
    "              [-1,1,3]]) #ag0,...agg \n",
    "\n",
    "\n",
    "Z = np.zeros((len(X),len(Y)))\n",
    "\n",
    "for n,x in enumerate(X):\n",
    "    for m,y in enumerate(Y):\n",
    "        x_poly=np.matrix([x**i for i in range(A.shape[0])])\n",
    "        y_poly = np.matrix([y**i for i in range( A.shape[0])]).reshape(-1,1)\n",
    "        \n",
    "        #here we perfomr the matrix operation {X*A*Y} for each sample of X,Y measurements \n",
    "        aux =np.matmul(x_poly,A,)\n",
    "        Z[n,m] = np.matmul( aux,y_poly)\n",
    "             \n"
   ]
  },
  {
   "cell_type": "code",
   "execution_count": null,
   "metadata": {},
   "outputs": [],
   "source": [
    "#plotting cell\n",
    "__,ax = plt.subplots(subplot_kw={\"projection\": \"3d\"})\n",
    "X,Y = np.meshgrid(X,Y)\n",
    "surf = ax.plot_surface(X, Y, Z,)"
   ]
  }
 ],
 "metadata": {
  "kernelspec": {
   "display_name": "Python 3",
   "language": "python",
   "name": "python3"
  },
  "language_info": {
   "codemirror_mode": {
    "name": "ipython",
    "version": 3
   },
   "file_extension": ".py",
   "mimetype": "text/x-python",
   "name": "python",
   "nbconvert_exporter": "python",
   "pygments_lexer": "ipython3",
   "version": "3.12.2"
  }
 },
 "nbformat": 4,
 "nbformat_minor": 2
}
